{
 "cells": [
  {
   "cell_type": "code",
   "execution_count": 3,
   "metadata": {},
   "outputs": [],
   "source": [
    "import numpy as np\n",
    "import pandas as pd\n",
    "import matplotlib.pyplot as plt\n",
    "from matplotlib import pyplot as plt\n",
    "from matplotlib.pyplot import figure\n",
    "import numpy as np\n",
    "%matplotlib inline"
   ]
  },
  {
   "cell_type": "code",
   "execution_count": 4,
   "metadata": {},
   "outputs": [],
   "source": [
    "df1 = pd.read_csv('./NYC_Bars_Clean.csv', index_col = 0)\n",
    "df2 = pd.read_csv('./Boston_Bars_Clean.csv', index_col = 0)\n",
    "\n",
    "\n",
    "#How do you make it where latitude and longiture are their own columns."
   ]
  },
  {
   "cell_type": "code",
   "execution_count": 5,
   "metadata": {},
   "outputs": [
    {
     "data": {
      "text/html": [
       "<div>\n",
       "<style scoped>\n",
       "    .dataframe tbody tr th:only-of-type {\n",
       "        vertical-align: middle;\n",
       "    }\n",
       "\n",
       "    .dataframe tbody tr th {\n",
       "        vertical-align: top;\n",
       "    }\n",
       "\n",
       "    .dataframe thead th {\n",
       "        text-align: right;\n",
       "    }\n",
       "</style>\n",
       "<table border=\"1\" class=\"dataframe\">\n",
       "  <thead>\n",
       "    <tr style=\"text-align: right;\">\n",
       "      <th></th>\n",
       "      <th>Name</th>\n",
       "      <th>Address</th>\n",
       "      <th>Business ID</th>\n",
       "      <th>Rating</th>\n",
       "      <th>Review Count</th>\n",
       "      <th>Coordinates</th>\n",
       "      <th>Price</th>\n",
       "    </tr>\n",
       "  </thead>\n",
       "  <tbody>\n",
       "    <tr>\n",
       "      <th>0</th>\n",
       "      <td>The Three Monkeys</td>\n",
       "      <td>['236 W 54th St', 'New York, NY 10019']</td>\n",
       "      <td>IBgjj5VBu5JJvKgo9EzKrg</td>\n",
       "      <td>4.0</td>\n",
       "      <td>1194</td>\n",
       "      <td>{'latitude': 40.764164, 'longitude': -73.98306}</td>\n",
       "      <td>2</td>\n",
       "    </tr>\n",
       "    <tr>\n",
       "      <th>1</th>\n",
       "      <td>Luckydog</td>\n",
       "      <td>['303 Bedford Ave', 'Brooklyn, NY 11211']</td>\n",
       "      <td>3Uzy1yp1SXq3FG-i2hEcyA</td>\n",
       "      <td>4.0</td>\n",
       "      <td>299</td>\n",
       "      <td>{'latitude': 40.71348, 'longitude': -73.96166}</td>\n",
       "      <td>1</td>\n",
       "    </tr>\n",
       "    <tr>\n",
       "      <th>2</th>\n",
       "      <td>Pint</td>\n",
       "      <td>['34 Wayne St', 'Jersey City, NJ 07302']</td>\n",
       "      <td>SDgXhdIDqhOo2E3t8e15Eg</td>\n",
       "      <td>4.0</td>\n",
       "      <td>148</td>\n",
       "      <td>{'latitude': 40.7190548557359, 'longitude': -7...</td>\n",
       "      <td>1</td>\n",
       "    </tr>\n",
       "    <tr>\n",
       "      <th>3</th>\n",
       "      <td>e's BAR</td>\n",
       "      <td>['511 Amsterdam Ave', 'New York, NY 10024']</td>\n",
       "      <td>GXh9YpX4v8Wemrq-SPDPhA</td>\n",
       "      <td>4.0</td>\n",
       "      <td>356</td>\n",
       "      <td>{'latitude': 40.786692073145, 'longitude': -73...</td>\n",
       "      <td>2</td>\n",
       "    </tr>\n",
       "    <tr>\n",
       "      <th>4</th>\n",
       "      <td>The Levee</td>\n",
       "      <td>['212 Berry St', 'Brooklyn, NY 11211']</td>\n",
       "      <td>XpYm_l-zKI3Rl4E8WODIDA</td>\n",
       "      <td>4.0</td>\n",
       "      <td>395</td>\n",
       "      <td>{'latitude': 40.7163303847776, 'longitude': -7...</td>\n",
       "      <td>1</td>\n",
       "    </tr>\n",
       "  </tbody>\n",
       "</table>\n",
       "</div>"
      ],
      "text/plain": [
       "                Name                                      Address  \\\n",
       "0  The Three Monkeys      ['236 W 54th St', 'New York, NY 10019']   \n",
       "1           Luckydog    ['303 Bedford Ave', 'Brooklyn, NY 11211']   \n",
       "2               Pint     ['34 Wayne St', 'Jersey City, NJ 07302']   \n",
       "3            e's BAR  ['511 Amsterdam Ave', 'New York, NY 10024']   \n",
       "4          The Levee       ['212 Berry St', 'Brooklyn, NY 11211']   \n",
       "\n",
       "              Business ID  Rating  Review Count  \\\n",
       "0  IBgjj5VBu5JJvKgo9EzKrg     4.0          1194   \n",
       "1  3Uzy1yp1SXq3FG-i2hEcyA     4.0           299   \n",
       "2  SDgXhdIDqhOo2E3t8e15Eg     4.0           148   \n",
       "3  GXh9YpX4v8Wemrq-SPDPhA     4.0           356   \n",
       "4  XpYm_l-zKI3Rl4E8WODIDA     4.0           395   \n",
       "\n",
       "                                         Coordinates  Price  \n",
       "0    {'latitude': 40.764164, 'longitude': -73.98306}      2  \n",
       "1     {'latitude': 40.71348, 'longitude': -73.96166}      1  \n",
       "2  {'latitude': 40.7190548557359, 'longitude': -7...      1  \n",
       "3  {'latitude': 40.786692073145, 'longitude': -73...      2  \n",
       "4  {'latitude': 40.7163303847776, 'longitude': -7...      1  "
      ]
     },
     "execution_count": 5,
     "metadata": {},
     "output_type": "execute_result"
    }
   ],
   "source": [
    "df1.head()"
   ]
  },
  {
   "cell_type": "code",
   "execution_count": 6,
   "metadata": {},
   "outputs": [],
   "source": [
    "#This adds a column to your DataFrame, in the [] you pass in the new column name, after the = you pass in what you want the value of that new column to be. \n",
    "df1['City'] = 'NYC'"
   ]
  },
  {
   "cell_type": "code",
   "execution_count": 7,
   "metadata": {},
   "outputs": [
    {
     "data": {
      "text/html": [
       "<div>\n",
       "<style scoped>\n",
       "    .dataframe tbody tr th:only-of-type {\n",
       "        vertical-align: middle;\n",
       "    }\n",
       "\n",
       "    .dataframe tbody tr th {\n",
       "        vertical-align: top;\n",
       "    }\n",
       "\n",
       "    .dataframe thead th {\n",
       "        text-align: right;\n",
       "    }\n",
       "</style>\n",
       "<table border=\"1\" class=\"dataframe\">\n",
       "  <thead>\n",
       "    <tr style=\"text-align: right;\">\n",
       "      <th></th>\n",
       "      <th>Name</th>\n",
       "      <th>Address</th>\n",
       "      <th>Business ID</th>\n",
       "      <th>Rating</th>\n",
       "      <th>Review Count</th>\n",
       "      <th>Coordinates</th>\n",
       "      <th>Price</th>\n",
       "      <th>City</th>\n",
       "    </tr>\n",
       "  </thead>\n",
       "  <tbody>\n",
       "    <tr>\n",
       "      <th>0</th>\n",
       "      <td>The Three Monkeys</td>\n",
       "      <td>['236 W 54th St', 'New York, NY 10019']</td>\n",
       "      <td>IBgjj5VBu5JJvKgo9EzKrg</td>\n",
       "      <td>4.0</td>\n",
       "      <td>1194</td>\n",
       "      <td>{'latitude': 40.764164, 'longitude': -73.98306}</td>\n",
       "      <td>2</td>\n",
       "      <td>NYC</td>\n",
       "    </tr>\n",
       "    <tr>\n",
       "      <th>1</th>\n",
       "      <td>Luckydog</td>\n",
       "      <td>['303 Bedford Ave', 'Brooklyn, NY 11211']</td>\n",
       "      <td>3Uzy1yp1SXq3FG-i2hEcyA</td>\n",
       "      <td>4.0</td>\n",
       "      <td>299</td>\n",
       "      <td>{'latitude': 40.71348, 'longitude': -73.96166}</td>\n",
       "      <td>1</td>\n",
       "      <td>NYC</td>\n",
       "    </tr>\n",
       "    <tr>\n",
       "      <th>2</th>\n",
       "      <td>Pint</td>\n",
       "      <td>['34 Wayne St', 'Jersey City, NJ 07302']</td>\n",
       "      <td>SDgXhdIDqhOo2E3t8e15Eg</td>\n",
       "      <td>4.0</td>\n",
       "      <td>148</td>\n",
       "      <td>{'latitude': 40.7190548557359, 'longitude': -7...</td>\n",
       "      <td>1</td>\n",
       "      <td>NYC</td>\n",
       "    </tr>\n",
       "    <tr>\n",
       "      <th>3</th>\n",
       "      <td>e's BAR</td>\n",
       "      <td>['511 Amsterdam Ave', 'New York, NY 10024']</td>\n",
       "      <td>GXh9YpX4v8Wemrq-SPDPhA</td>\n",
       "      <td>4.0</td>\n",
       "      <td>356</td>\n",
       "      <td>{'latitude': 40.786692073145, 'longitude': -73...</td>\n",
       "      <td>2</td>\n",
       "      <td>NYC</td>\n",
       "    </tr>\n",
       "    <tr>\n",
       "      <th>4</th>\n",
       "      <td>The Levee</td>\n",
       "      <td>['212 Berry St', 'Brooklyn, NY 11211']</td>\n",
       "      <td>XpYm_l-zKI3Rl4E8WODIDA</td>\n",
       "      <td>4.0</td>\n",
       "      <td>395</td>\n",
       "      <td>{'latitude': 40.7163303847776, 'longitude': -7...</td>\n",
       "      <td>1</td>\n",
       "      <td>NYC</td>\n",
       "    </tr>\n",
       "  </tbody>\n",
       "</table>\n",
       "</div>"
      ],
      "text/plain": [
       "                Name                                      Address  \\\n",
       "0  The Three Monkeys      ['236 W 54th St', 'New York, NY 10019']   \n",
       "1           Luckydog    ['303 Bedford Ave', 'Brooklyn, NY 11211']   \n",
       "2               Pint     ['34 Wayne St', 'Jersey City, NJ 07302']   \n",
       "3            e's BAR  ['511 Amsterdam Ave', 'New York, NY 10024']   \n",
       "4          The Levee       ['212 Berry St', 'Brooklyn, NY 11211']   \n",
       "\n",
       "              Business ID  Rating  Review Count  \\\n",
       "0  IBgjj5VBu5JJvKgo9EzKrg     4.0          1194   \n",
       "1  3Uzy1yp1SXq3FG-i2hEcyA     4.0           299   \n",
       "2  SDgXhdIDqhOo2E3t8e15Eg     4.0           148   \n",
       "3  GXh9YpX4v8Wemrq-SPDPhA     4.0           356   \n",
       "4  XpYm_l-zKI3Rl4E8WODIDA     4.0           395   \n",
       "\n",
       "                                         Coordinates  Price City  \n",
       "0    {'latitude': 40.764164, 'longitude': -73.98306}      2  NYC  \n",
       "1     {'latitude': 40.71348, 'longitude': -73.96166}      1  NYC  \n",
       "2  {'latitude': 40.7190548557359, 'longitude': -7...      1  NYC  \n",
       "3  {'latitude': 40.786692073145, 'longitude': -73...      2  NYC  \n",
       "4  {'latitude': 40.7163303847776, 'longitude': -7...      1  NYC  "
      ]
     },
     "execution_count": 7,
     "metadata": {},
     "output_type": "execute_result"
    }
   ],
   "source": [
    "df1.head()"
   ]
  },
  {
   "cell_type": "code",
   "execution_count": 8,
   "metadata": {
    "scrolled": false
   },
   "outputs": [
    {
     "data": {
      "text/html": [
       "<div>\n",
       "<style scoped>\n",
       "    .dataframe tbody tr th:only-of-type {\n",
       "        vertical-align: middle;\n",
       "    }\n",
       "\n",
       "    .dataframe tbody tr th {\n",
       "        vertical-align: top;\n",
       "    }\n",
       "\n",
       "    .dataframe thead th {\n",
       "        text-align: right;\n",
       "    }\n",
       "</style>\n",
       "<table border=\"1\" class=\"dataframe\">\n",
       "  <thead>\n",
       "    <tr style=\"text-align: right;\">\n",
       "      <th></th>\n",
       "      <th>Name</th>\n",
       "      <th>Address</th>\n",
       "      <th>Business ID</th>\n",
       "      <th>Rating</th>\n",
       "      <th>Review Count</th>\n",
       "      <th>Coordinates</th>\n",
       "      <th>Price</th>\n",
       "    </tr>\n",
       "  </thead>\n",
       "  <tbody>\n",
       "    <tr>\n",
       "      <th>0</th>\n",
       "      <td>The Corner Pub</td>\n",
       "      <td>['162 Lincoln St', 'Boston, MA 02111']</td>\n",
       "      <td>tCPxYdZVbsDooH3DQsNLqQ</td>\n",
       "      <td>4.5</td>\n",
       "      <td>134</td>\n",
       "      <td>{'latitude': 42.35076, 'longitude': -71.05837}</td>\n",
       "      <td>1</td>\n",
       "    </tr>\n",
       "    <tr>\n",
       "      <th>1</th>\n",
       "      <td>Bleacher Bar</td>\n",
       "      <td>['82 Lansdowne St', 'Fenway Park', 'Boston, MA...</td>\n",
       "      <td>47IRTOlC4kjAf1aFKLZDdA</td>\n",
       "      <td>4.0</td>\n",
       "      <td>483</td>\n",
       "      <td>{'latitude': 42.3469855442944, 'longitude': -7...</td>\n",
       "      <td>2</td>\n",
       "    </tr>\n",
       "    <tr>\n",
       "      <th>2</th>\n",
       "      <td>21st Amendment</td>\n",
       "      <td>['150 Bowdoin Sq', 'Boston, MA 02108']</td>\n",
       "      <td>ZrSNKHiKK_PBB6UHx22FaA</td>\n",
       "      <td>4.0</td>\n",
       "      <td>401</td>\n",
       "      <td>{'latitude': 42.358355, 'longitude': -71.062686}</td>\n",
       "      <td>2</td>\n",
       "    </tr>\n",
       "    <tr>\n",
       "      <th>3</th>\n",
       "      <td>Boston Brew Tours by City Brew Tours</td>\n",
       "      <td>['2 Park Plz', 'Boston, MA 02116']</td>\n",
       "      <td>UMtKPjI5xsR5Db0pCyECFA</td>\n",
       "      <td>4.5</td>\n",
       "      <td>169</td>\n",
       "      <td>{'latitude': 42.3522696, 'longitude': -71.0670...</td>\n",
       "      <td>2</td>\n",
       "    </tr>\n",
       "    <tr>\n",
       "      <th>4</th>\n",
       "      <td>Bostonia Public House</td>\n",
       "      <td>['131 State St', 'Boston, MA 02109']</td>\n",
       "      <td>xZ22_0eJOgaiKqIhoSHrPw</td>\n",
       "      <td>4.0</td>\n",
       "      <td>1455</td>\n",
       "      <td>{'latitude': 42.359213, 'longitude': -71.054296}</td>\n",
       "      <td>2</td>\n",
       "    </tr>\n",
       "  </tbody>\n",
       "</table>\n",
       "</div>"
      ],
      "text/plain": [
       "                                   Name  \\\n",
       "0                        The Corner Pub   \n",
       "1                          Bleacher Bar   \n",
       "2                        21st Amendment   \n",
       "3  Boston Brew Tours by City Brew Tours   \n",
       "4                 Bostonia Public House   \n",
       "\n",
       "                                             Address             Business ID  \\\n",
       "0             ['162 Lincoln St', 'Boston, MA 02111']  tCPxYdZVbsDooH3DQsNLqQ   \n",
       "1  ['82 Lansdowne St', 'Fenway Park', 'Boston, MA...  47IRTOlC4kjAf1aFKLZDdA   \n",
       "2             ['150 Bowdoin Sq', 'Boston, MA 02108']  ZrSNKHiKK_PBB6UHx22FaA   \n",
       "3                 ['2 Park Plz', 'Boston, MA 02116']  UMtKPjI5xsR5Db0pCyECFA   \n",
       "4               ['131 State St', 'Boston, MA 02109']  xZ22_0eJOgaiKqIhoSHrPw   \n",
       "\n",
       "   Rating  Review Count                                        Coordinates  \\\n",
       "0     4.5           134     {'latitude': 42.35076, 'longitude': -71.05837}   \n",
       "1     4.0           483  {'latitude': 42.3469855442944, 'longitude': -7...   \n",
       "2     4.0           401   {'latitude': 42.358355, 'longitude': -71.062686}   \n",
       "3     4.5           169  {'latitude': 42.3522696, 'longitude': -71.0670...   \n",
       "4     4.0          1455   {'latitude': 42.359213, 'longitude': -71.054296}   \n",
       "\n",
       "   Price  \n",
       "0      1  \n",
       "1      2  \n",
       "2      2  \n",
       "3      2  \n",
       "4      2  "
      ]
     },
     "execution_count": 8,
     "metadata": {},
     "output_type": "execute_result"
    }
   ],
   "source": [
    "df2.head()"
   ]
  },
  {
   "cell_type": "code",
   "execution_count": 9,
   "metadata": {},
   "outputs": [],
   "source": [
    "df2['City'] = 'BOS'"
   ]
  },
  {
   "cell_type": "code",
   "execution_count": 10,
   "metadata": {},
   "outputs": [],
   "source": [
    "#This combines the two dataframes to be able to utilize the Pandas Functionality to create bar graphs. \n",
    "frames = [df1, df2]\n",
    "result = pd.concat(frames)"
   ]
  },
  {
   "cell_type": "code",
   "execution_count": 11,
   "metadata": {},
   "outputs": [
    {
     "data": {
      "text/plain": [
       "291"
      ]
     },
     "execution_count": 11,
     "metadata": {},
     "output_type": "execute_result"
    }
   ],
   "source": [
    "df1.shape[0]"
   ]
  },
  {
   "cell_type": "code",
   "execution_count": 12,
   "metadata": {
    "scrolled": true
   },
   "outputs": [
    {
     "data": {
      "text/plain": [
       "(289, 8)"
      ]
     },
     "execution_count": 12,
     "metadata": {},
     "output_type": "execute_result"
    }
   ],
   "source": [
    "df2.shape"
   ]
  },
  {
   "cell_type": "code",
   "execution_count": 13,
   "metadata": {},
   "outputs": [
    {
     "name": "stdout",
     "output_type": "stream",
     "text": [
      "580\n"
     ]
    }
   ],
   "source": [
    "print(df1.shape[0] + df2.shape[0])"
   ]
  },
  {
   "cell_type": "code",
   "execution_count": 14,
   "metadata": {},
   "outputs": [
    {
     "data": {
      "text/html": [
       "<div>\n",
       "<style scoped>\n",
       "    .dataframe tbody tr th:only-of-type {\n",
       "        vertical-align: middle;\n",
       "    }\n",
       "\n",
       "    .dataframe tbody tr th {\n",
       "        vertical-align: top;\n",
       "    }\n",
       "\n",
       "    .dataframe thead th {\n",
       "        text-align: right;\n",
       "    }\n",
       "</style>\n",
       "<table border=\"1\" class=\"dataframe\">\n",
       "  <thead>\n",
       "    <tr style=\"text-align: right;\">\n",
       "      <th></th>\n",
       "      <th>Name</th>\n",
       "      <th>Address</th>\n",
       "      <th>Business ID</th>\n",
       "      <th>Rating</th>\n",
       "      <th>Review Count</th>\n",
       "      <th>Coordinates</th>\n",
       "      <th>Price</th>\n",
       "      <th>City</th>\n",
       "    </tr>\n",
       "  </thead>\n",
       "  <tbody>\n",
       "    <tr>\n",
       "      <th>0</th>\n",
       "      <td>The Three Monkeys</td>\n",
       "      <td>['236 W 54th St', 'New York, NY 10019']</td>\n",
       "      <td>IBgjj5VBu5JJvKgo9EzKrg</td>\n",
       "      <td>4.0</td>\n",
       "      <td>1194</td>\n",
       "      <td>{'latitude': 40.764164, 'longitude': -73.98306}</td>\n",
       "      <td>2</td>\n",
       "      <td>NYC</td>\n",
       "    </tr>\n",
       "    <tr>\n",
       "      <th>1</th>\n",
       "      <td>Luckydog</td>\n",
       "      <td>['303 Bedford Ave', 'Brooklyn, NY 11211']</td>\n",
       "      <td>3Uzy1yp1SXq3FG-i2hEcyA</td>\n",
       "      <td>4.0</td>\n",
       "      <td>299</td>\n",
       "      <td>{'latitude': 40.71348, 'longitude': -73.96166}</td>\n",
       "      <td>1</td>\n",
       "      <td>NYC</td>\n",
       "    </tr>\n",
       "    <tr>\n",
       "      <th>2</th>\n",
       "      <td>Pint</td>\n",
       "      <td>['34 Wayne St', 'Jersey City, NJ 07302']</td>\n",
       "      <td>SDgXhdIDqhOo2E3t8e15Eg</td>\n",
       "      <td>4.0</td>\n",
       "      <td>148</td>\n",
       "      <td>{'latitude': 40.7190548557359, 'longitude': -7...</td>\n",
       "      <td>1</td>\n",
       "      <td>NYC</td>\n",
       "    </tr>\n",
       "    <tr>\n",
       "      <th>3</th>\n",
       "      <td>e's BAR</td>\n",
       "      <td>['511 Amsterdam Ave', 'New York, NY 10024']</td>\n",
       "      <td>GXh9YpX4v8Wemrq-SPDPhA</td>\n",
       "      <td>4.0</td>\n",
       "      <td>356</td>\n",
       "      <td>{'latitude': 40.786692073145, 'longitude': -73...</td>\n",
       "      <td>2</td>\n",
       "      <td>NYC</td>\n",
       "    </tr>\n",
       "    <tr>\n",
       "      <th>4</th>\n",
       "      <td>The Levee</td>\n",
       "      <td>['212 Berry St', 'Brooklyn, NY 11211']</td>\n",
       "      <td>XpYm_l-zKI3Rl4E8WODIDA</td>\n",
       "      <td>4.0</td>\n",
       "      <td>395</td>\n",
       "      <td>{'latitude': 40.7163303847776, 'longitude': -7...</td>\n",
       "      <td>1</td>\n",
       "      <td>NYC</td>\n",
       "    </tr>\n",
       "    <tr>\n",
       "      <th>...</th>\n",
       "      <td>...</td>\n",
       "      <td>...</td>\n",
       "      <td>...</td>\n",
       "      <td>...</td>\n",
       "      <td>...</td>\n",
       "      <td>...</td>\n",
       "      <td>...</td>\n",
       "      <td>...</td>\n",
       "    </tr>\n",
       "    <tr>\n",
       "      <th>284</th>\n",
       "      <td>Coogan's</td>\n",
       "      <td>['171 Milk St', 'Boston, MA 02109']</td>\n",
       "      <td>X6megK3Vz4xMquw2f233xQ</td>\n",
       "      <td>2.5</td>\n",
       "      <td>309</td>\n",
       "      <td>{'latitude': 42.358399789122, 'longitude': -71...</td>\n",
       "      <td>1</td>\n",
       "      <td>BOS</td>\n",
       "    </tr>\n",
       "    <tr>\n",
       "      <th>285</th>\n",
       "      <td>Burro Bar Brookline</td>\n",
       "      <td>['1665 Beacon St', 'Brookline, MA 02445']</td>\n",
       "      <td>LgKBFgM0hN2yyX9WfEF_JQ</td>\n",
       "      <td>4.0</td>\n",
       "      <td>219</td>\n",
       "      <td>{'latitude': 42.33849, 'longitude': -71.13739}</td>\n",
       "      <td>2</td>\n",
       "      <td>BOS</td>\n",
       "    </tr>\n",
       "    <tr>\n",
       "      <th>286</th>\n",
       "      <td>Aeronaut Brewing Company</td>\n",
       "      <td>['14 Tyler St', 'Somerville, MA 02143']</td>\n",
       "      <td>w_MxXl29Pnpc94EU6S39cg</td>\n",
       "      <td>4.0</td>\n",
       "      <td>292</td>\n",
       "      <td>{'latitude': 42.3819711200372, 'longitude': -7...</td>\n",
       "      <td>2</td>\n",
       "      <td>BOS</td>\n",
       "    </tr>\n",
       "    <tr>\n",
       "      <th>287</th>\n",
       "      <td>The Smoke Shop BBQ - Kendall Square</td>\n",
       "      <td>['1 Kendall Sq', 'Cambridge, MA 02139']</td>\n",
       "      <td>gvslXIfVWkVu12MjgdlZJg</td>\n",
       "      <td>4.0</td>\n",
       "      <td>601</td>\n",
       "      <td>{'latitude': 42.3662975092658, 'longitude': -7...</td>\n",
       "      <td>2</td>\n",
       "      <td>BOS</td>\n",
       "    </tr>\n",
       "    <tr>\n",
       "      <th>288</th>\n",
       "      <td>Galway House</td>\n",
       "      <td>['710 Centre St', 'Jamaica Plain, MA 02130']</td>\n",
       "      <td>oSM8ItF9hZ0Qz7-y9ckuiQ</td>\n",
       "      <td>4.0</td>\n",
       "      <td>234</td>\n",
       "      <td>{'latitude': 42.311316, 'longitude': -71.114221}</td>\n",
       "      <td>2</td>\n",
       "      <td>BOS</td>\n",
       "    </tr>\n",
       "  </tbody>\n",
       "</table>\n",
       "<p>580 rows × 8 columns</p>\n",
       "</div>"
      ],
      "text/plain": [
       "                                    Name  \\\n",
       "0                      The Three Monkeys   \n",
       "1                               Luckydog   \n",
       "2                                   Pint   \n",
       "3                                e's BAR   \n",
       "4                              The Levee   \n",
       "..                                   ...   \n",
       "284                             Coogan's   \n",
       "285                  Burro Bar Brookline   \n",
       "286             Aeronaut Brewing Company   \n",
       "287  The Smoke Shop BBQ - Kendall Square   \n",
       "288                         Galway House   \n",
       "\n",
       "                                          Address             Business ID  \\\n",
       "0         ['236 W 54th St', 'New York, NY 10019']  IBgjj5VBu5JJvKgo9EzKrg   \n",
       "1       ['303 Bedford Ave', 'Brooklyn, NY 11211']  3Uzy1yp1SXq3FG-i2hEcyA   \n",
       "2        ['34 Wayne St', 'Jersey City, NJ 07302']  SDgXhdIDqhOo2E3t8e15Eg   \n",
       "3     ['511 Amsterdam Ave', 'New York, NY 10024']  GXh9YpX4v8Wemrq-SPDPhA   \n",
       "4          ['212 Berry St', 'Brooklyn, NY 11211']  XpYm_l-zKI3Rl4E8WODIDA   \n",
       "..                                            ...                     ...   \n",
       "284           ['171 Milk St', 'Boston, MA 02109']  X6megK3Vz4xMquw2f233xQ   \n",
       "285     ['1665 Beacon St', 'Brookline, MA 02445']  LgKBFgM0hN2yyX9WfEF_JQ   \n",
       "286       ['14 Tyler St', 'Somerville, MA 02143']  w_MxXl29Pnpc94EU6S39cg   \n",
       "287       ['1 Kendall Sq', 'Cambridge, MA 02139']  gvslXIfVWkVu12MjgdlZJg   \n",
       "288  ['710 Centre St', 'Jamaica Plain, MA 02130']  oSM8ItF9hZ0Qz7-y9ckuiQ   \n",
       "\n",
       "     Rating  Review Count                                        Coordinates  \\\n",
       "0       4.0          1194    {'latitude': 40.764164, 'longitude': -73.98306}   \n",
       "1       4.0           299     {'latitude': 40.71348, 'longitude': -73.96166}   \n",
       "2       4.0           148  {'latitude': 40.7190548557359, 'longitude': -7...   \n",
       "3       4.0           356  {'latitude': 40.786692073145, 'longitude': -73...   \n",
       "4       4.0           395  {'latitude': 40.7163303847776, 'longitude': -7...   \n",
       "..      ...           ...                                                ...   \n",
       "284     2.5           309  {'latitude': 42.358399789122, 'longitude': -71...   \n",
       "285     4.0           219     {'latitude': 42.33849, 'longitude': -71.13739}   \n",
       "286     4.0           292  {'latitude': 42.3819711200372, 'longitude': -7...   \n",
       "287     4.0           601  {'latitude': 42.3662975092658, 'longitude': -7...   \n",
       "288     4.0           234   {'latitude': 42.311316, 'longitude': -71.114221}   \n",
       "\n",
       "     Price City  \n",
       "0        2  NYC  \n",
       "1        1  NYC  \n",
       "2        1  NYC  \n",
       "3        2  NYC  \n",
       "4        1  NYC  \n",
       "..     ...  ...  \n",
       "284      1  BOS  \n",
       "285      2  BOS  \n",
       "286      2  BOS  \n",
       "287      2  BOS  \n",
       "288      2  BOS  \n",
       "\n",
       "[580 rows x 8 columns]"
      ]
     },
     "execution_count": 14,
     "metadata": {},
     "output_type": "execute_result"
    }
   ],
   "source": [
    "result"
   ]
  },
  {
   "cell_type": "code",
   "execution_count": 20,
   "metadata": {
    "scrolled": false
   },
   "outputs": [
    {
     "data": {
      "image/png": "[encoded data removed]",
      "text/plain": [
       "<Figure size 432x288 with 1 Axes>"
      ]
     },
     "metadata": {
      "needs_background": "light"
     },
     "output_type": "display_data"
    }
   ],
   "source": [
    "# .groupby() method: you call .groupby() and pass the name of the column you want to group on.  Then you use [\"City, etc.\"] to specify the columns on which you want to perform the actual aggregation. You can pass a lot more than just a single column name to .groupby() as the first argument.  You can also specify any of the following: 1. A list of multiple column names, 2. A dict of Pandas Series, 3. A NumPy array or Pandas Index, or an array-like iterable of these. \n",
    "#Below is a chart with the count of ratings on the Y axi\n",
    "result.groupby('City')['Rating'].value_counts().unstack(0).plot(kind='bar')\n",
    "plt.title('# of Ratings by Rank')\n",
    "plt.xlabel('Rating Rank')\n",
    "plt.ylabel('# of Ratings')\n",
    "plt.savefig('Ratings_by_Rank.png')\n",
    "\n",
    "\n"
   ]
  },
  {
   "cell_type": "code",
   "execution_count": 19,
   "metadata": {
    "scrolled": false
   },
   "outputs": [
    {
     "data": {
      "image/png": "[encoded data removed]",
      "text/plain": [
       "<Figure size 432x288 with 1 Axes>"
      ]
     },
     "metadata": {
      "needs_background": "light"
     },
     "output_type": "display_data"
    }
   ],
   "source": [
    "# .groupby() method: you call .groupby() and pass the name of the column you want to group on.  Then you use [\"City, etc.\"] to specify the columns on which you want to perform the actual aggregation. You can pass a lot more than just a single column name to .groupby() as the first argument.  You can also specify any of the following: 1. A list of multiple column names, 2. A dict of Pandas Series, 3. A NumPy array or Pandas Index, or an array-like iterable of these. \n",
    "#Below is a chart with the count of ratings on the Y axi\n",
    "result.groupby('City')['Price'].value_counts().unstack(0).plot(kind='bar')\n",
    "plt.title('# of Ratings by Price')\n",
    "plt.xlabel('Price Scale')\n",
    "plt.ylabel('# of Ratings')\n",
    "plt.savefig('Ratings_by_Price.png')"
   ]
  },
  {
   "cell_type": "code",
   "execution_count": 24,
   "metadata": {},
   "outputs": [
    {
     "data": {
      "image/png": "[encoded data removed]",
      "text/plain": [
       "<Figure size 432x288 with 1 Axes>"
      ]
     },
     "metadata": {
      "needs_background": "light"
     },
     "output_type": "display_data"
    }
   ],
   "source": [
    "fig, ax = plt.subplots()\n",
    "\n",
    "# Add a boxplot for the \"Height\" column in the DataFrames\n",
    "ax.boxplot([df1['Review Count'], df2['Review Count']], vert=False)\n",
    "\n",
    "# Add x-axis tick labels:\n",
    "ax.set_yticklabels(['NYC', \"BOS\"])\n",
    "\n",
    "# Add a y-axis label\n",
    "ax.set_xlabel(\"Review Counts\")\n",
    "ax.set_title(\"Review Counts by City\")\n",
    "\n",
    "plt.savefig('Review_Counts_by_City.png')\n",
    "\n",
    "\n",
    "plt.show()"
   ]
  },
  {
   "cell_type": "code",
   "execution_count": 15,
   "metadata": {
    "scrolled": false
   },
   "outputs": [
    {
     "data": {
      "text/plain": [
       "Rating\n",
       "4.0    172\n",
       "3.5     62\n",
       "4.5     45\n",
       "3.0     10\n",
       "5.0      2\n",
       "dtype: int64"
      ]
     },
     "execution_count": 15,
     "metadata": {},
     "output_type": "execute_result"
    }
   ],
   "source": [
    "df1.value_counts('Rating')"
   ]
  },
  {
   "cell_type": "code",
   "execution_count": 16,
   "metadata": {},
   "outputs": [
    {
     "data": {
      "text/plain": [
       "Rating\n",
       "4.0    117\n",
       "3.5     96\n",
       "3.0     36\n",
       "4.5     30\n",
       "2.5      7\n",
       "5.0      2\n",
       "2.0      1\n",
       "dtype: int64"
      ]
     },
     "execution_count": 16,
     "metadata": {},
     "output_type": "execute_result"
    }
   ],
   "source": [
    "df2.value_counts('Rating')"
   ]
  },
  {
   "cell_type": "code",
   "execution_count": 17,
   "metadata": {},
   "outputs": [],
   "source": [
    "counts = df1.value_counts('Rating')\n",
    "counts2 = df2.value_counts('Rating')"
   ]
  },
  {
   "cell_type": "code",
   "execution_count": 18,
   "metadata": {},
   "outputs": [
    {
     "data": {
      "text/plain": [
       "pandas.core.series.Series"
      ]
     },
     "execution_count": 18,
     "metadata": {},
     "output_type": "execute_result"
    }
   ],
   "source": [
    "type(counts)"
   ]
  },
  {
   "cell_type": "code",
   "execution_count": 19,
   "metadata": {},
   "outputs": [
    {
     "data": {
      "text/plain": [
       "Float64Index([4.0, 3.5, 4.5, 3.0, 5.0], dtype='float64', name='Rating')"
      ]
     },
     "execution_count": 19,
     "metadata": {},
     "output_type": "execute_result"
    }
   ],
   "source": [
    "counts.index"
   ]
  },
  {
   "cell_type": "code",
   "execution_count": 20,
   "metadata": {},
   "outputs": [],
   "source": [
    "x = [1, 2, 3, 4, 5]"
   ]
  },
  {
   "cell_type": "code",
   "execution_count": 21,
   "metadata": {},
   "outputs": [],
   "source": [
    "y = counts.values"
   ]
  },
  {
   "cell_type": "code",
   "execution_count": 22,
   "metadata": {},
   "outputs": [],
   "source": [
    "y2 = counts2.values"
   ]
  }
 ],
 "metadata": {
  "kernelspec": {
   "display_name": "Python (learn-env)",
   "language": "python",
   "name": "learn-env"
  },
  "language_info": {
   "codemirror_mode": {
    "name": "ipython",
    "version": 3
   },
   "file_extension": ".py",
   "mimetype": "text/x-python",
   "name": "python",
   "nbconvert_exporter": "python",
   "pygments_lexer": "ipython3",
   "version": "3.8.5"
  }
 },
 "nbformat": 4,
 "nbformat_minor": 4
}
